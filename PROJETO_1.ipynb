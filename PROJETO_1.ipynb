{
  "nbformat": 4,
  "nbformat_minor": 0,
  "metadata": {
    "colab": {
      "provenance": [],
      "toc_visible": true,
      "authorship_tag": "ABX9TyOBm4f8GhFQpbSYLJOd2SNJ",
      "include_colab_link": true
    },
    "kernelspec": {
      "name": "python3",
      "display_name": "Python 3"
    },
    "language_info": {
      "name": "python"
    }
  },
  "cells": [
    {
      "cell_type": "markdown",
      "metadata": {
        "id": "view-in-github",
        "colab_type": "text"
      },
      "source": [
        "<a href=\"https://colab.research.google.com/github/ThaysMolina/PROJETO-1-/blob/main/PROJETO_1.ipynb\" target=\"_parent\"><img src=\"https://colab.research.google.com/assets/colab-badge.svg\" alt=\"Open In Colab\"/></a>"
      ]
    },
    {
      "cell_type": "markdown",
      "source": [],
      "metadata": {
        "id": "xVGWy1oTxd_z"
      }
    },
    {
      "cell_type": "markdown",
      "source": [
        "Esse trabalho teve o intuito de entender alguns motivos do cancelamento de reserva de hotel. Com isso o hotel pode-se precaver para não haver tantos cancelamentos.\n",
        "Para o estudo eu usei algumas variáveis do dataframe:\n",
        "* days_in_waiting_list - Discreta\n",
        "* arrival_date_month - Nominal\n",
        "* is_canceled - Nominal\n",
        "* Country - Nominal\n",
        "* market_segment - Nominal\n",
        "* is_repeated_guest - Nominal\n",
        "Os dados foram tirados do site Kaggle\n",
        "\n",
        "\n",
        "\n",
        "\n"
      ],
      "metadata": {
        "id": "hxIWClz_Sxsw"
      }
    },
    {
      "cell_type": "code",
      "source": [
        "# Configuração para não exibir os warnings\n",
        "import warnings\n",
        "warnings.filterwarnings(\"ignore\")\n",
        "\n",
        "# Importação de pacotes\n",
        "import pandas as pd\n",
        "import numpy as np\n",
        "import matplotlib.pyplot as plt\n",
        "import seaborn as sns\n",
        "from matplotlib import cm\n",
        "from statsmodels.formula.api import ols\n",
        "from sklearn.preprocessing import MinMaxScaler # normalização\n",
        "from sklearn.preprocessing import StandardScaler # padronização\n",
        "from sklearn.preprocessing import OrdinalEncoder # ordinal encoding\n",
        "from sklearn.preprocessing import OneHotEncoder # one-hot encoding e dummy encoding\n",
        "from pandas import set_option\n",
        "from pandas.plotting import scatter_matrix\n",
        "from sklearn.model_selection import train_test_split\n",
        "from sklearn.model_selection import KFold\n",
        "from sklearn.model_selection import StratifiedKFold\n",
        "from sklearn.model_selection import cross_val_score\n",
        "from sklearn.model_selection import GridSearchCV\n",
        "from sklearn.metrics import classification_report\n",
        "from sklearn.metrics import confusion_matrix\n",
        "from sklearn.metrics import accuracy_score\n",
        "from sklearn.pipeline import Pipeline\n",
        "from sklearn.linear_model import LogisticRegression\n",
        "from sklearn.tree import DecisionTreeClassifier\n",
        "from sklearn.neighbors import KNeighborsClassifier\n",
        "from sklearn.naive_bayes import GaussianNB\n",
        "from sklearn.svm import SVC\n",
        "from sklearn.ensemble import BaggingClassifier\n",
        "from sklearn.ensemble import RandomForestClassifier\n",
        "from sklearn.ensemble import ExtraTreesClassifier\n",
        "from sklearn.ensemble import VotingClassifier\n",
        "from sklearn.ensemble import AdaBoostClassifier\n",
        "from sklearn.ensemble import GradientBoostingClassifier\n",
        "from scipy.stats import stats\n",
        "import scipy.stats as stats\n",
        "import statsmodels.api as sm\n",
        "from statsmodels.formula.api import ols\n"
      ],
      "metadata": {
        "id": "MDgqmKZ3me7x"
      },
      "execution_count": null,
      "outputs": []
    },
    {
      "cell_type": "markdown",
      "source": [],
      "metadata": {
        "id": "Talq38dgt4uW"
      }
    },
    {
      "cell_type": "markdown",
      "source": [
        "**Carregando Base de Dados**"
      ],
      "metadata": {
        "id": "8DrAmA39mkxx"
      }
    },
    {
      "cell_type": "code",
      "source": [
        "# Informa a URL de importação do dataset (URL Raw)\n",
        "url = \"https://raw.githubusercontent.com/ThaysMolina/PROJETO-1-/main/hotel_bookings.csv\"\n",
        "\n",
        "# Lê o arquivo\n",
        "dados_hotel = pd.read_csv(url, sep=',')\n"
      ],
      "metadata": {
        "id": "3P4G1FzDmuOn"
      },
      "execution_count": null,
      "outputs": []
    },
    {
      "cell_type": "markdown",
      "source": [
        "## *Análise Exploratória *"
      ],
      "metadata": {
        "id": "AE2g7SW2sVeU"
      }
    },
    {
      "cell_type": "markdown",
      "source": [
        "Informações Gerais e Estatísticas Descritivas\n"
      ],
      "metadata": {
        "id": "sgxXyWdUsvw3"
      }
    },
    {
      "cell_type": "code",
      "source": [
        "# Mostra as dimensões do dataset\n",
        "dados_hotel.shape"
      ],
      "metadata": {
        "colab": {
          "base_uri": "https://localhost:8080/"
        },
        "id": "lUQiI8ILsm0Q",
        "outputId": "b0464bfd-2669-418c-cc85-e7a21bb83eef"
      },
      "execution_count": null,
      "outputs": [
        {
          "output_type": "execute_result",
          "data": {
            "text/plain": [
              "(119390, 31)"
            ]
          },
          "metadata": {},
          "execution_count": 3
        }
      ]
    },
    {
      "cell_type": "markdown",
      "source": [
        "O dataset tem 119390 linhas e 31 colunas, isto é 31 variáveis."
      ],
      "metadata": {
        "id": "9EyDS-dP4qdF"
      }
    },
    {
      "cell_type": "code",
      "source": [
        "# Mostra as informações do dataset\n",
        "dados_hotel.info()"
      ],
      "metadata": {
        "colab": {
          "base_uri": "https://localhost:8080/"
        },
        "id": "UqT3LPaLs_E2",
        "outputId": "ab0bbece-4dd0-475b-a04a-e50e65ad86be"
      },
      "execution_count": null,
      "outputs": [
        {
          "output_type": "stream",
          "name": "stdout",
          "text": [
            "<class 'pandas.core.frame.DataFrame'>\n",
            "RangeIndex: 119390 entries, 0 to 119389\n",
            "Data columns (total 31 columns):\n",
            " #   Column                          Non-Null Count   Dtype  \n",
            "---  ------                          --------------   -----  \n",
            " 0   hotel                           119390 non-null  object \n",
            " 1   is_canceled                     119390 non-null  int64  \n",
            " 2   lead_time                       119390 non-null  int64  \n",
            " 3   arrival_date_year               119390 non-null  int64  \n",
            " 4   arrival_date_month              119390 non-null  object \n",
            " 5   arrival_date_week_number        119390 non-null  int64  \n",
            " 6   arrival_date_day_of_month       119390 non-null  int64  \n",
            " 7   stays_in_weekend_nights         119390 non-null  int64  \n",
            " 8   stays_in_week_nights            119390 non-null  int64  \n",
            " 9   adults                          119390 non-null  int64  \n",
            " 10  children                        119386 non-null  float64\n",
            " 11  babies                          119390 non-null  int64  \n",
            " 12  meal                            119390 non-null  object \n",
            " 13  country                         118902 non-null  object \n",
            " 14  market_segment                  119390 non-null  object \n",
            " 15  distribution_channel            119390 non-null  object \n",
            " 16  is_repeated_guest               119390 non-null  int64  \n",
            " 17  previous_cancellations          119390 non-null  int64  \n",
            " 18  previous_bookings_not_canceled  119390 non-null  int64  \n",
            " 19  reserved_room_type              119390 non-null  object \n",
            " 20  assigned_room_type              119390 non-null  object \n",
            " 21  booking_changes                 119390 non-null  int64  \n",
            " 22  agent                           103050 non-null  float64\n",
            " 23  company                         6797 non-null    float64\n",
            " 24  days_in_waiting_list            119390 non-null  int64  \n",
            " 25  customer_type                   119390 non-null  object \n",
            " 26  adr                             119390 non-null  float64\n",
            " 27  required_car_parking_spaces     119390 non-null  int64  \n",
            " 28  total_of_special_requests       119390 non-null  int64  \n",
            " 29  reservation_status              119390 non-null  object \n",
            " 30  reservation_status_date         119390 non-null  object \n",
            "dtypes: float64(4), int64(16), object(11)\n",
            "memory usage: 28.2+ MB\n"
          ]
        }
      ]
    },
    {
      "cell_type": "markdown",
      "source": [
        "  Podemos ver acima que nas informações do dataset, algumas variáveis em algumas linhas não tem valores,dados faltantes (NA's), por exemplo as variáveis : children (crianças), Country (País), Agente e Company (Empresa). Ou seja, os clientes não preencheram os dados na reserva.\n",
        "  Para a variável criança os dados faltantes (NA's) corresponde a 0,0034% do dataset.\n",
        "  Para a variável país, corresponde a 0,4%. Para Agente seria 14% e Empresa seria 94%. As variáveis Agente e Empresa corresponde ao código do agente e da empresa, que para a análise nao entra em questão. Dado essas informações, eu escolho excluir as linhas com os dados faltantes. Primeiro irei excluir as colunas que não vou precisar para a análise, no caso Agente e Empresa e depois as linhas faltantes das outras variáveis citadas."
      ],
      "metadata": {
        "id": "TQ6_9D2F3AJf"
      }
    },
    {
      "cell_type": "code",
      "source": [
        "colunas_para_excluir = ['agent','company']\n",
        "dados_hotel_novo = dados_hotel.drop(colunas_para_excluir, axis=1)\n",
        "\n",
        "# Exibir o DataFrame sem a coluna 'Coluna2'\n",
        "print(\"\\nDataFrame sem a Coluna2:\")\n",
        "print(dados_hotel_novo)"
      ],
      "metadata": {
        "colab": {
          "base_uri": "https://localhost:8080/"
        },
        "id": "P5dsPRgUAacz",
        "outputId": "c69628da-ed0f-4dee-f354-ad4a46083513"
      },
      "execution_count": null,
      "outputs": [
        {
          "output_type": "stream",
          "name": "stdout",
          "text": [
            "\n",
            "DataFrame sem a Coluna2:\n",
            "               hotel  is_canceled  lead_time  arrival_date_year  \\\n",
            "0       Resort Hotel            0        342               2015   \n",
            "1       Resort Hotel            0        737               2015   \n",
            "2       Resort Hotel            0          7               2015   \n",
            "3       Resort Hotel            0         13               2015   \n",
            "4       Resort Hotel            0         14               2015   \n",
            "...              ...          ...        ...                ...   \n",
            "119385    City Hotel            0         23               2017   \n",
            "119386    City Hotel            0        102               2017   \n",
            "119387    City Hotel            0         34               2017   \n",
            "119388    City Hotel            0        109               2017   \n",
            "119389    City Hotel            0        205               2017   \n",
            "\n",
            "       arrival_date_month  arrival_date_week_number  \\\n",
            "0                    July                        27   \n",
            "1                    July                        27   \n",
            "2                    July                        27   \n",
            "3                    July                        27   \n",
            "4                    July                        27   \n",
            "...                   ...                       ...   \n",
            "119385             August                        35   \n",
            "119386             August                        35   \n",
            "119387             August                        35   \n",
            "119388             August                        35   \n",
            "119389             August                        35   \n",
            "\n",
            "        arrival_date_day_of_month  stays_in_weekend_nights  \\\n",
            "0                               1                        0   \n",
            "1                               1                        0   \n",
            "2                               1                        0   \n",
            "3                               1                        0   \n",
            "4                               1                        0   \n",
            "...                           ...                      ...   \n",
            "119385                         30                        2   \n",
            "119386                         31                        2   \n",
            "119387                         31                        2   \n",
            "119388                         31                        2   \n",
            "119389                         29                        2   \n",
            "\n",
            "        stays_in_week_nights  adults  ...  reserved_room_type  \\\n",
            "0                          0       2  ...                   C   \n",
            "1                          0       2  ...                   C   \n",
            "2                          1       1  ...                   A   \n",
            "3                          1       1  ...                   A   \n",
            "4                          2       2  ...                   A   \n",
            "...                      ...     ...  ...                 ...   \n",
            "119385                     5       2  ...                   A   \n",
            "119386                     5       3  ...                   E   \n",
            "119387                     5       2  ...                   D   \n",
            "119388                     5       2  ...                   A   \n",
            "119389                     7       2  ...                   A   \n",
            "\n",
            "        assigned_room_type booking_changes days_in_waiting_list customer_type  \\\n",
            "0                        C               3                    0     Transient   \n",
            "1                        C               4                    0     Transient   \n",
            "2                        C               0                    0     Transient   \n",
            "3                        A               0                    0     Transient   \n",
            "4                        A               0                    0     Transient   \n",
            "...                    ...             ...                  ...           ...   \n",
            "119385                   A               0                    0     Transient   \n",
            "119386                   E               0                    0     Transient   \n",
            "119387                   D               0                    0     Transient   \n",
            "119388                   A               0                    0     Transient   \n",
            "119389                   A               0                    0     Transient   \n",
            "\n",
            "           adr  required_car_parking_spaces  total_of_special_requests  \\\n",
            "0         0.00                            0                          0   \n",
            "1         0.00                            0                          0   \n",
            "2        75.00                            0                          0   \n",
            "3        75.00                            0                          0   \n",
            "4        98.00                            0                          1   \n",
            "...        ...                          ...                        ...   \n",
            "119385   96.14                            0                          0   \n",
            "119386  225.43                            0                          2   \n",
            "119387  157.71                            0                          4   \n",
            "119388  104.40                            0                          0   \n",
            "119389  151.20                            0                          2   \n",
            "\n",
            "        reservation_status reservation_status_date  \n",
            "0                Check-Out                 1/07/15  \n",
            "1                Check-Out                 1/07/15  \n",
            "2                Check-Out                 2/07/15  \n",
            "3                Check-Out                 2/07/15  \n",
            "4                Check-Out                 3/07/15  \n",
            "...                    ...                     ...  \n",
            "119385           Check-Out                 6/09/17  \n",
            "119386           Check-Out                 7/09/17  \n",
            "119387           Check-Out                 7/09/17  \n",
            "119388           Check-Out                 7/09/17  \n",
            "119389           Check-Out                 7/09/17  \n",
            "\n",
            "[119390 rows x 29 columns]\n"
          ]
        }
      ]
    },
    {
      "cell_type": "markdown",
      "source": [
        "e agora vamos excluir as linhas faltantes. Se tivesse excluído todas as linhas faltantes sem excluir as colunas, ou fizesse primeiro excluir as linhas e depois as colunas, iria perder muitos dados."
      ],
      "metadata": {
        "id": "nvUuJ7jWCtgv"
      }
    },
    {
      "cell_type": "code",
      "source": [
        "dados_hotel_novo2 = dados_hotel_novo.dropna()\n",
        "print(\"\\nDataFrame sem Linhas Faltantes:\")\n",
        "print(dados_hotel_novo2)"
      ],
      "metadata": {
        "colab": {
          "base_uri": "https://localhost:8080/"
        },
        "id": "pyMJlr4sCtEV",
        "outputId": "98e2c6ed-9dce-45ad-9529-d1673e5b3ab9"
      },
      "execution_count": null,
      "outputs": [
        {
          "output_type": "stream",
          "name": "stdout",
          "text": [
            "\n",
            "DataFrame sem Linhas Faltantes:\n",
            "               hotel  is_canceled  lead_time  arrival_date_year  \\\n",
            "0       Resort Hotel            0        342               2015   \n",
            "1       Resort Hotel            0        737               2015   \n",
            "2       Resort Hotel            0          7               2015   \n",
            "3       Resort Hotel            0         13               2015   \n",
            "4       Resort Hotel            0         14               2015   \n",
            "...              ...          ...        ...                ...   \n",
            "119385    City Hotel            0         23               2017   \n",
            "119386    City Hotel            0        102               2017   \n",
            "119387    City Hotel            0         34               2017   \n",
            "119388    City Hotel            0        109               2017   \n",
            "119389    City Hotel            0        205               2017   \n",
            "\n",
            "       arrival_date_month  arrival_date_week_number  \\\n",
            "0                    July                        27   \n",
            "1                    July                        27   \n",
            "2                    July                        27   \n",
            "3                    July                        27   \n",
            "4                    July                        27   \n",
            "...                   ...                       ...   \n",
            "119385             August                        35   \n",
            "119386             August                        35   \n",
            "119387             August                        35   \n",
            "119388             August                        35   \n",
            "119389             August                        35   \n",
            "\n",
            "        arrival_date_day_of_month  stays_in_weekend_nights  \\\n",
            "0                               1                        0   \n",
            "1                               1                        0   \n",
            "2                               1                        0   \n",
            "3                               1                        0   \n",
            "4                               1                        0   \n",
            "...                           ...                      ...   \n",
            "119385                         30                        2   \n",
            "119386                         31                        2   \n",
            "119387                         31                        2   \n",
            "119388                         31                        2   \n",
            "119389                         29                        2   \n",
            "\n",
            "        stays_in_week_nights  adults  ...  reserved_room_type  \\\n",
            "0                          0       2  ...                   C   \n",
            "1                          0       2  ...                   C   \n",
            "2                          1       1  ...                   A   \n",
            "3                          1       1  ...                   A   \n",
            "4                          2       2  ...                   A   \n",
            "...                      ...     ...  ...                 ...   \n",
            "119385                     5       2  ...                   A   \n",
            "119386                     5       3  ...                   E   \n",
            "119387                     5       2  ...                   D   \n",
            "119388                     5       2  ...                   A   \n",
            "119389                     7       2  ...                   A   \n",
            "\n",
            "        assigned_room_type booking_changes days_in_waiting_list customer_type  \\\n",
            "0                        C               3                    0     Transient   \n",
            "1                        C               4                    0     Transient   \n",
            "2                        C               0                    0     Transient   \n",
            "3                        A               0                    0     Transient   \n",
            "4                        A               0                    0     Transient   \n",
            "...                    ...             ...                  ...           ...   \n",
            "119385                   A               0                    0     Transient   \n",
            "119386                   E               0                    0     Transient   \n",
            "119387                   D               0                    0     Transient   \n",
            "119388                   A               0                    0     Transient   \n",
            "119389                   A               0                    0     Transient   \n",
            "\n",
            "           adr  required_car_parking_spaces  total_of_special_requests  \\\n",
            "0         0.00                            0                          0   \n",
            "1         0.00                            0                          0   \n",
            "2        75.00                            0                          0   \n",
            "3        75.00                            0                          0   \n",
            "4        98.00                            0                          1   \n",
            "...        ...                          ...                        ...   \n",
            "119385   96.14                            0                          0   \n",
            "119386  225.43                            0                          2   \n",
            "119387  157.71                            0                          4   \n",
            "119388  104.40                            0                          0   \n",
            "119389  151.20                            0                          2   \n",
            "\n",
            "        reservation_status reservation_status_date  \n",
            "0                Check-Out                 1/07/15  \n",
            "1                Check-Out                 1/07/15  \n",
            "2                Check-Out                 2/07/15  \n",
            "3                Check-Out                 2/07/15  \n",
            "4                Check-Out                 3/07/15  \n",
            "...                    ...                     ...  \n",
            "119385           Check-Out                 6/09/17  \n",
            "119386           Check-Out                 7/09/17  \n",
            "119387           Check-Out                 7/09/17  \n",
            "119388           Check-Out                 7/09/17  \n",
            "119389           Check-Out                 7/09/17  \n",
            "\n",
            "[118898 rows x 29 columns]\n"
          ]
        }
      ]
    },
    {
      "cell_type": "code",
      "source": [
        "#Nova dimensão do dataset\n",
        "\n",
        "dados_hotel_novo2.shape"
      ],
      "metadata": {
        "colab": {
          "base_uri": "https://localhost:8080/"
        },
        "id": "yf7rA8UDFJIZ",
        "outputId": "3e42b54d-b255-483f-c885-347f9ad6f109"
      },
      "execution_count": null,
      "outputs": [
        {
          "output_type": "execute_result",
          "data": {
            "text/plain": [
              "(118898, 29)"
            ]
          },
          "metadata": {},
          "execution_count": 7
        }
      ]
    },
    {
      "cell_type": "markdown",
      "source": [
        "Atualmente a base tem 118.898 linhas e 29 colunas. Temos 99,59% da base original.\n"
      ],
      "metadata": {
        "id": "jKK4mLKAFShX"
      }
    },
    {
      "cell_type": "code",
      "source": [
        "# Mostra as 10 primeiras linhas do dataset\n",
        "dados_hotel_novo2.head(10)"
      ],
      "metadata": {
        "colab": {
          "base_uri": "https://localhost:8080/",
          "height": 585
        },
        "id": "H_9QcbiktF11",
        "outputId": "542d34ac-3f21-4e8b-df38-641bbfb9329b"
      },
      "execution_count": null,
      "outputs": [
        {
          "output_type": "execute_result",
          "data": {
            "text/plain": [
              "          hotel  is_canceled  lead_time  arrival_date_year arrival_date_month  \\\n",
              "0  Resort Hotel            0        342               2015               July   \n",
              "1  Resort Hotel            0        737               2015               July   \n",
              "2  Resort Hotel            0          7               2015               July   \n",
              "3  Resort Hotel            0         13               2015               July   \n",
              "4  Resort Hotel            0         14               2015               July   \n",
              "5  Resort Hotel            0         14               2015               July   \n",
              "6  Resort Hotel            0          0               2015               July   \n",
              "7  Resort Hotel            0          9               2015               July   \n",
              "8  Resort Hotel            1         85               2015               July   \n",
              "9  Resort Hotel            1         75               2015               July   \n",
              "\n",
              "   arrival_date_week_number  arrival_date_day_of_month  \\\n",
              "0                        27                          1   \n",
              "1                        27                          1   \n",
              "2                        27                          1   \n",
              "3                        27                          1   \n",
              "4                        27                          1   \n",
              "5                        27                          1   \n",
              "6                        27                          1   \n",
              "7                        27                          1   \n",
              "8                        27                          1   \n",
              "9                        27                          1   \n",
              "\n",
              "   stays_in_weekend_nights  stays_in_week_nights  adults  ...  \\\n",
              "0                        0                     0       2  ...   \n",
              "1                        0                     0       2  ...   \n",
              "2                        0                     1       1  ...   \n",
              "3                        0                     1       1  ...   \n",
              "4                        0                     2       2  ...   \n",
              "5                        0                     2       2  ...   \n",
              "6                        0                     2       2  ...   \n",
              "7                        0                     2       2  ...   \n",
              "8                        0                     3       2  ...   \n",
              "9                        0                     3       2  ...   \n",
              "\n",
              "   reserved_room_type  assigned_room_type booking_changes  \\\n",
              "0                   C                   C               3   \n",
              "1                   C                   C               4   \n",
              "2                   A                   C               0   \n",
              "3                   A                   A               0   \n",
              "4                   A                   A               0   \n",
              "5                   A                   A               0   \n",
              "6                   C                   C               0   \n",
              "7                   C                   C               0   \n",
              "8                   A                   A               0   \n",
              "9                   D                   D               0   \n",
              "\n",
              "  days_in_waiting_list customer_type    adr  required_car_parking_spaces  \\\n",
              "0                    0     Transient    0.0                            0   \n",
              "1                    0     Transient    0.0                            0   \n",
              "2                    0     Transient   75.0                            0   \n",
              "3                    0     Transient   75.0                            0   \n",
              "4                    0     Transient   98.0                            0   \n",
              "5                    0     Transient   98.0                            0   \n",
              "6                    0     Transient  107.0                            0   \n",
              "7                    0     Transient  103.0                            0   \n",
              "8                    0     Transient   82.0                            0   \n",
              "9                    0     Transient  105.5                            0   \n",
              "\n",
              "   total_of_special_requests  reservation_status reservation_status_date  \n",
              "0                          0           Check-Out                 1/07/15  \n",
              "1                          0           Check-Out                 1/07/15  \n",
              "2                          0           Check-Out                 2/07/15  \n",
              "3                          0           Check-Out                 2/07/15  \n",
              "4                          1           Check-Out                 3/07/15  \n",
              "5                          1           Check-Out                 3/07/15  \n",
              "6                          0           Check-Out                 3/07/15  \n",
              "7                          1           Check-Out                 3/07/15  \n",
              "8                          1            Canceled                 6/05/15  \n",
              "9                          0            Canceled                22/04/15  \n",
              "\n",
              "[10 rows x 29 columns]"
            ],
            "text/html": [
              "\n",
              "  <div id=\"df-f72ce53f-1ecd-4342-96aa-82c7dff3b9e0\" class=\"colab-df-container\">\n",
              "    <div>\n",
              "<style scoped>\n",
              "    .dataframe tbody tr th:only-of-type {\n",
              "        vertical-align: middle;\n",
              "    }\n",
              "\n",
              "    .dataframe tbody tr th {\n",
              "        vertical-align: top;\n",
              "    }\n",
              "\n",
              "    .dataframe thead th {\n",
              "        text-align: right;\n",
              "    }\n",
              "</style>\n",
              "<table border=\"1\" class=\"dataframe\">\n",
              "  <thead>\n",
              "    <tr style=\"text-align: right;\">\n",
              "      <th></th>\n",
              "      <th>hotel</th>\n",
              "      <th>is_canceled</th>\n",
              "      <th>lead_time</th>\n",
              "      <th>arrival_date_year</th>\n",
              "      <th>arrival_date_month</th>\n",
              "      <th>arrival_date_week_number</th>\n",
              "      <th>arrival_date_day_of_month</th>\n",
              "      <th>stays_in_weekend_nights</th>\n",
              "      <th>stays_in_week_nights</th>\n",
              "      <th>adults</th>\n",
              "      <th>...</th>\n",
              "      <th>reserved_room_type</th>\n",
              "      <th>assigned_room_type</th>\n",
              "      <th>booking_changes</th>\n",
              "      <th>days_in_waiting_list</th>\n",
              "      <th>customer_type</th>\n",
              "      <th>adr</th>\n",
              "      <th>required_car_parking_spaces</th>\n",
              "      <th>total_of_special_requests</th>\n",
              "      <th>reservation_status</th>\n",
              "      <th>reservation_status_date</th>\n",
              "    </tr>\n",
              "  </thead>\n",
              "  <tbody>\n",
              "    <tr>\n",
              "      <th>0</th>\n",
              "      <td>Resort Hotel</td>\n",
              "      <td>0</td>\n",
              "      <td>342</td>\n",
              "      <td>2015</td>\n",
              "      <td>July</td>\n",
              "      <td>27</td>\n",
              "      <td>1</td>\n",
              "      <td>0</td>\n",
              "      <td>0</td>\n",
              "      <td>2</td>\n",
              "      <td>...</td>\n",
              "      <td>C</td>\n",
              "      <td>C</td>\n",
              "      <td>3</td>\n",
              "      <td>0</td>\n",
              "      <td>Transient</td>\n",
              "      <td>0.0</td>\n",
              "      <td>0</td>\n",
              "      <td>0</td>\n",
              "      <td>Check-Out</td>\n",
              "      <td>1/07/15</td>\n",
              "    </tr>\n",
              "    <tr>\n",
              "      <th>1</th>\n",
              "      <td>Resort Hotel</td>\n",
              "      <td>0</td>\n",
              "      <td>737</td>\n",
              "      <td>2015</td>\n",
              "      <td>July</td>\n",
              "      <td>27</td>\n",
              "      <td>1</td>\n",
              "      <td>0</td>\n",
              "      <td>0</td>\n",
              "      <td>2</td>\n",
              "      <td>...</td>\n",
              "      <td>C</td>\n",
              "      <td>C</td>\n",
              "      <td>4</td>\n",
              "      <td>0</td>\n",
              "      <td>Transient</td>\n",
              "      <td>0.0</td>\n",
              "      <td>0</td>\n",
              "      <td>0</td>\n",
              "      <td>Check-Out</td>\n",
              "      <td>1/07/15</td>\n",
              "    </tr>\n",
              "    <tr>\n",
              "      <th>2</th>\n",
              "      <td>Resort Hotel</td>\n",
              "      <td>0</td>\n",
              "      <td>7</td>\n",
              "      <td>2015</td>\n",
              "      <td>July</td>\n",
              "      <td>27</td>\n",
              "      <td>1</td>\n",
              "      <td>0</td>\n",
              "      <td>1</td>\n",
              "      <td>1</td>\n",
              "      <td>...</td>\n",
              "      <td>A</td>\n",
              "      <td>C</td>\n",
              "      <td>0</td>\n",
              "      <td>0</td>\n",
              "      <td>Transient</td>\n",
              "      <td>75.0</td>\n",
              "      <td>0</td>\n",
              "      <td>0</td>\n",
              "      <td>Check-Out</td>\n",
              "      <td>2/07/15</td>\n",
              "    </tr>\n",
              "    <tr>\n",
              "      <th>3</th>\n",
              "      <td>Resort Hotel</td>\n",
              "      <td>0</td>\n",
              "      <td>13</td>\n",
              "      <td>2015</td>\n",
              "      <td>July</td>\n",
              "      <td>27</td>\n",
              "      <td>1</td>\n",
              "      <td>0</td>\n",
              "      <td>1</td>\n",
              "      <td>1</td>\n",
              "      <td>...</td>\n",
              "      <td>A</td>\n",
              "      <td>A</td>\n",
              "      <td>0</td>\n",
              "      <td>0</td>\n",
              "      <td>Transient</td>\n",
              "      <td>75.0</td>\n",
              "      <td>0</td>\n",
              "      <td>0</td>\n",
              "      <td>Check-Out</td>\n",
              "      <td>2/07/15</td>\n",
              "    </tr>\n",
              "    <tr>\n",
              "      <th>4</th>\n",
              "      <td>Resort Hotel</td>\n",
              "      <td>0</td>\n",
              "      <td>14</td>\n",
              "      <td>2015</td>\n",
              "      <td>July</td>\n",
              "      <td>27</td>\n",
              "      <td>1</td>\n",
              "      <td>0</td>\n",
              "      <td>2</td>\n",
              "      <td>2</td>\n",
              "      <td>...</td>\n",
              "      <td>A</td>\n",
              "      <td>A</td>\n",
              "      <td>0</td>\n",
              "      <td>0</td>\n",
              "      <td>Transient</td>\n",
              "      <td>98.0</td>\n",
              "      <td>0</td>\n",
              "      <td>1</td>\n",
              "      <td>Check-Out</td>\n",
              "      <td>3/07/15</td>\n",
              "    </tr>\n",
              "    <tr>\n",
              "      <th>5</th>\n",
              "      <td>Resort Hotel</td>\n",
              "      <td>0</td>\n",
              "      <td>14</td>\n",
              "      <td>2015</td>\n",
              "      <td>July</td>\n",
              "      <td>27</td>\n",
              "      <td>1</td>\n",
              "      <td>0</td>\n",
              "      <td>2</td>\n",
              "      <td>2</td>\n",
              "      <td>...</td>\n",
              "      <td>A</td>\n",
              "      <td>A</td>\n",
              "      <td>0</td>\n",
              "      <td>0</td>\n",
              "      <td>Transient</td>\n",
              "      <td>98.0</td>\n",
              "      <td>0</td>\n",
              "      <td>1</td>\n",
              "      <td>Check-Out</td>\n",
              "      <td>3/07/15</td>\n",
              "    </tr>\n",
              "    <tr>\n",
              "      <th>6</th>\n",
              "      <td>Resort Hotel</td>\n",
              "      <td>0</td>\n",
              "      <td>0</td>\n",
              "      <td>2015</td>\n",
              "      <td>July</td>\n",
              "      <td>27</td>\n",
              "      <td>1</td>\n",
              "      <td>0</td>\n",
              "      <td>2</td>\n",
              "      <td>2</td>\n",
              "      <td>...</td>\n",
              "      <td>C</td>\n",
              "      <td>C</td>\n",
              "      <td>0</td>\n",
              "      <td>0</td>\n",
              "      <td>Transient</td>\n",
              "      <td>107.0</td>\n",
              "      <td>0</td>\n",
              "      <td>0</td>\n",
              "      <td>Check-Out</td>\n",
              "      <td>3/07/15</td>\n",
              "    </tr>\n",
              "    <tr>\n",
              "      <th>7</th>\n",
              "      <td>Resort Hotel</td>\n",
              "      <td>0</td>\n",
              "      <td>9</td>\n",
              "      <td>2015</td>\n",
              "      <td>July</td>\n",
              "      <td>27</td>\n",
              "      <td>1</td>\n",
              "      <td>0</td>\n",
              "      <td>2</td>\n",
              "      <td>2</td>\n",
              "      <td>...</td>\n",
              "      <td>C</td>\n",
              "      <td>C</td>\n",
              "      <td>0</td>\n",
              "      <td>0</td>\n",
              "      <td>Transient</td>\n",
              "      <td>103.0</td>\n",
              "      <td>0</td>\n",
              "      <td>1</td>\n",
              "      <td>Check-Out</td>\n",
              "      <td>3/07/15</td>\n",
              "    </tr>\n",
              "    <tr>\n",
              "      <th>8</th>\n",
              "      <td>Resort Hotel</td>\n",
              "      <td>1</td>\n",
              "      <td>85</td>\n",
              "      <td>2015</td>\n",
              "      <td>July</td>\n",
              "      <td>27</td>\n",
              "      <td>1</td>\n",
              "      <td>0</td>\n",
              "      <td>3</td>\n",
              "      <td>2</td>\n",
              "      <td>...</td>\n",
              "      <td>A</td>\n",
              "      <td>A</td>\n",
              "      <td>0</td>\n",
              "      <td>0</td>\n",
              "      <td>Transient</td>\n",
              "      <td>82.0</td>\n",
              "      <td>0</td>\n",
              "      <td>1</td>\n",
              "      <td>Canceled</td>\n",
              "      <td>6/05/15</td>\n",
              "    </tr>\n",
              "    <tr>\n",
              "      <th>9</th>\n",
              "      <td>Resort Hotel</td>\n",
              "      <td>1</td>\n",
              "      <td>75</td>\n",
              "      <td>2015</td>\n",
              "      <td>July</td>\n",
              "      <td>27</td>\n",
              "      <td>1</td>\n",
              "      <td>0</td>\n",
              "      <td>3</td>\n",
              "      <td>2</td>\n",
              "      <td>...</td>\n",
              "      <td>D</td>\n",
              "      <td>D</td>\n",
              "      <td>0</td>\n",
              "      <td>0</td>\n",
              "      <td>Transient</td>\n",
              "      <td>105.5</td>\n",
              "      <td>0</td>\n",
              "      <td>0</td>\n",
              "      <td>Canceled</td>\n",
              "      <td>22/04/15</td>\n",
              "    </tr>\n",
              "  </tbody>\n",
              "</table>\n",
              "<p>10 rows × 29 columns</p>\n",
              "</div>\n",
              "    <div class=\"colab-df-buttons\">\n",
              "\n",
              "  <div class=\"colab-df-container\">\n",
              "    <button class=\"colab-df-convert\" onclick=\"convertToInteractive('df-f72ce53f-1ecd-4342-96aa-82c7dff3b9e0')\"\n",
              "            title=\"Convert this dataframe to an interactive table.\"\n",
              "            style=\"display:none;\">\n",
              "\n",
              "  <svg xmlns=\"http://www.w3.org/2000/svg\" height=\"24px\" viewBox=\"0 -960 960 960\">\n",
              "    <path d=\"M120-120v-720h720v720H120Zm60-500h600v-160H180v160Zm220 220h160v-160H400v160Zm0 220h160v-160H400v160ZM180-400h160v-160H180v160Zm440 0h160v-160H620v160ZM180-180h160v-160H180v160Zm440 0h160v-160H620v160Z\"/>\n",
              "  </svg>\n",
              "    </button>\n",
              "\n",
              "  <style>\n",
              "    .colab-df-container {\n",
              "      display:flex;\n",
              "      gap: 12px;\n",
              "    }\n",
              "\n",
              "    .colab-df-convert {\n",
              "      background-color: #E8F0FE;\n",
              "      border: none;\n",
              "      border-radius: 50%;\n",
              "      cursor: pointer;\n",
              "      display: none;\n",
              "      fill: #1967D2;\n",
              "      height: 32px;\n",
              "      padding: 0 0 0 0;\n",
              "      width: 32px;\n",
              "    }\n",
              "\n",
              "    .colab-df-convert:hover {\n",
              "      background-color: #E2EBFA;\n",
              "      box-shadow: 0px 1px 2px rgba(60, 64, 67, 0.3), 0px 1px 3px 1px rgba(60, 64, 67, 0.15);\n",
              "      fill: #174EA6;\n",
              "    }\n",
              "\n",
              "    .colab-df-buttons div {\n",
              "      margin-bottom: 4px;\n",
              "    }\n",
              "\n",
              "    [theme=dark] .colab-df-convert {\n",
              "      background-color: #3B4455;\n",
              "      fill: #D2E3FC;\n",
              "    }\n",
              "\n",
              "    [theme=dark] .colab-df-convert:hover {\n",
              "      background-color: #434B5C;\n",
              "      box-shadow: 0px 1px 3px 1px rgba(0, 0, 0, 0.15);\n",
              "      filter: drop-shadow(0px 1px 2px rgba(0, 0, 0, 0.3));\n",
              "      fill: #FFFFFF;\n",
              "    }\n",
              "  </style>\n",
              "\n",
              "    <script>\n",
              "      const buttonEl =\n",
              "        document.querySelector('#df-f72ce53f-1ecd-4342-96aa-82c7dff3b9e0 button.colab-df-convert');\n",
              "      buttonEl.style.display =\n",
              "        google.colab.kernel.accessAllowed ? 'block' : 'none';\n",
              "\n",
              "      async function convertToInteractive(key) {\n",
              "        const element = document.querySelector('#df-f72ce53f-1ecd-4342-96aa-82c7dff3b9e0');\n",
              "        const dataTable =\n",
              "          await google.colab.kernel.invokeFunction('convertToInteractive',\n",
              "                                                    [key], {});\n",
              "        if (!dataTable) return;\n",
              "\n",
              "        const docLinkHtml = 'Like what you see? Visit the ' +\n",
              "          '<a target=\"_blank\" href=https://colab.research.google.com/notebooks/data_table.ipynb>data table notebook</a>'\n",
              "          + ' to learn more about interactive tables.';\n",
              "        element.innerHTML = '';\n",
              "        dataTable['output_type'] = 'display_data';\n",
              "        await google.colab.output.renderOutput(dataTable, element);\n",
              "        const docLink = document.createElement('div');\n",
              "        docLink.innerHTML = docLinkHtml;\n",
              "        element.appendChild(docLink);\n",
              "      }\n",
              "    </script>\n",
              "  </div>\n",
              "\n",
              "\n",
              "<div id=\"df-8f23229f-e371-4064-8e44-4c0357b65374\">\n",
              "  <button class=\"colab-df-quickchart\" onclick=\"quickchart('df-8f23229f-e371-4064-8e44-4c0357b65374')\"\n",
              "            title=\"Suggest charts\"\n",
              "            style=\"display:none;\">\n",
              "\n",
              "<svg xmlns=\"http://www.w3.org/2000/svg\" height=\"24px\"viewBox=\"0 0 24 24\"\n",
              "     width=\"24px\">\n",
              "    <g>\n",
              "        <path d=\"M19 3H5c-1.1 0-2 .9-2 2v14c0 1.1.9 2 2 2h14c1.1 0 2-.9 2-2V5c0-1.1-.9-2-2-2zM9 17H7v-7h2v7zm4 0h-2V7h2v10zm4 0h-2v-4h2v4z\"/>\n",
              "    </g>\n",
              "</svg>\n",
              "  </button>\n",
              "\n",
              "<style>\n",
              "  .colab-df-quickchart {\n",
              "      --bg-color: #E8F0FE;\n",
              "      --fill-color: #1967D2;\n",
              "      --hover-bg-color: #E2EBFA;\n",
              "      --hover-fill-color: #174EA6;\n",
              "      --disabled-fill-color: #AAA;\n",
              "      --disabled-bg-color: #DDD;\n",
              "  }\n",
              "\n",
              "  [theme=dark] .colab-df-quickchart {\n",
              "      --bg-color: #3B4455;\n",
              "      --fill-color: #D2E3FC;\n",
              "      --hover-bg-color: #434B5C;\n",
              "      --hover-fill-color: #FFFFFF;\n",
              "      --disabled-bg-color: #3B4455;\n",
              "      --disabled-fill-color: #666;\n",
              "  }\n",
              "\n",
              "  .colab-df-quickchart {\n",
              "    background-color: var(--bg-color);\n",
              "    border: none;\n",
              "    border-radius: 50%;\n",
              "    cursor: pointer;\n",
              "    display: none;\n",
              "    fill: var(--fill-color);\n",
              "    height: 32px;\n",
              "    padding: 0;\n",
              "    width: 32px;\n",
              "  }\n",
              "\n",
              "  .colab-df-quickchart:hover {\n",
              "    background-color: var(--hover-bg-color);\n",
              "    box-shadow: 0 1px 2px rgba(60, 64, 67, 0.3), 0 1px 3px 1px rgba(60, 64, 67, 0.15);\n",
              "    fill: var(--button-hover-fill-color);\n",
              "  }\n",
              "\n",
              "  .colab-df-quickchart-complete:disabled,\n",
              "  .colab-df-quickchart-complete:disabled:hover {\n",
              "    background-color: var(--disabled-bg-color);\n",
              "    fill: var(--disabled-fill-color);\n",
              "    box-shadow: none;\n",
              "  }\n",
              "\n",
              "  .colab-df-spinner {\n",
              "    border: 2px solid var(--fill-color);\n",
              "    border-color: transparent;\n",
              "    border-bottom-color: var(--fill-color);\n",
              "    animation:\n",
              "      spin 1s steps(1) infinite;\n",
              "  }\n",
              "\n",
              "  @keyframes spin {\n",
              "    0% {\n",
              "      border-color: transparent;\n",
              "      border-bottom-color: var(--fill-color);\n",
              "      border-left-color: var(--fill-color);\n",
              "    }\n",
              "    20% {\n",
              "      border-color: transparent;\n",
              "      border-left-color: var(--fill-color);\n",
              "      border-top-color: var(--fill-color);\n",
              "    }\n",
              "    30% {\n",
              "      border-color: transparent;\n",
              "      border-left-color: var(--fill-color);\n",
              "      border-top-color: var(--fill-color);\n",
              "      border-right-color: var(--fill-color);\n",
              "    }\n",
              "    40% {\n",
              "      border-color: transparent;\n",
              "      border-right-color: var(--fill-color);\n",
              "      border-top-color: var(--fill-color);\n",
              "    }\n",
              "    60% {\n",
              "      border-color: transparent;\n",
              "      border-right-color: var(--fill-color);\n",
              "    }\n",
              "    80% {\n",
              "      border-color: transparent;\n",
              "      border-right-color: var(--fill-color);\n",
              "      border-bottom-color: var(--fill-color);\n",
              "    }\n",
              "    90% {\n",
              "      border-color: transparent;\n",
              "      border-bottom-color: var(--fill-color);\n",
              "    }\n",
              "  }\n",
              "</style>\n",
              "\n",
              "  <script>\n",
              "    async function quickchart(key) {\n",
              "      const quickchartButtonEl =\n",
              "        document.querySelector('#' + key + ' button');\n",
              "      quickchartButtonEl.disabled = true;  // To prevent multiple clicks.\n",
              "      quickchartButtonEl.classList.add('colab-df-spinner');\n",
              "      try {\n",
              "        const charts = await google.colab.kernel.invokeFunction(\n",
              "            'suggestCharts', [key], {});\n",
              "      } catch (error) {\n",
              "        console.error('Error during call to suggestCharts:', error);\n",
              "      }\n",
              "      quickchartButtonEl.classList.remove('colab-df-spinner');\n",
              "      quickchartButtonEl.classList.add('colab-df-quickchart-complete');\n",
              "    }\n",
              "    (() => {\n",
              "      let quickchartButtonEl =\n",
              "        document.querySelector('#df-8f23229f-e371-4064-8e44-4c0357b65374 button');\n",
              "      quickchartButtonEl.style.display =\n",
              "        google.colab.kernel.accessAllowed ? 'block' : 'none';\n",
              "    })();\n",
              "  </script>\n",
              "</div>\n",
              "    </div>\n",
              "  </div>\n"
            ]
          },
          "metadata": {},
          "execution_count": 8
        }
      ]
    },
    {
      "cell_type": "markdown",
      "source": [
        "Para a nossa primeira hipótese : Reservas com tempos de espera mais longos têm uma probabilidade maior de serem canceladas devido à frustração do cliente.\n",
        "Vamos utilizar as variáveis tempo de espera e reserva cancelada."
      ],
      "metadata": {
        "id": "8KaDVOQtGAxR"
      }
    },
    {
      "cell_type": "code",
      "source": [
        "# Visualize os dados\n",
        "sns.scatterplot(x='days_in_waiting_list', y='is_canceled', data=dados_hotel_novo2, hue='is_canceled')\n",
        "plt.title('Dias em lista de espera vs. Reserva Cancelada')\n",
        "plt.xlabel('Lista de espera (dias)')\n",
        "plt.ylabel('Reserva Cancelada (1: Sim, 0: Não)')\n",
        "plt.show()\n",
        "\n",
        "# Calcule a correlação entre tempo de espera e cancelamento da reserva\n",
        "correlation = dados_hotel_novo2['days_in_waiting_list'].corr(dados_hotel_novo2['is_canceled'])\n",
        "print(f'Correlação: {correlation}')\n",
        "\n"
      ],
      "metadata": {
        "colab": {
          "base_uri": "https://localhost:8080/",
          "height": 489
        },
        "id": "wlUaFkCcGTK1",
        "outputId": "da457c0c-4464-4820-9402-db129a1fed97"
      },
      "execution_count": null,
      "outputs": [
        {
          "output_type": "display_data",
          "data": {
            "text/plain": [
              "<Figure size 640x480 with 1 Axes>"
            ],
            "image/png": "[encoded data removed]"
          },
          "metadata": {}
        },
        {
          "output_type": "stream",
          "name": "stdout",
          "text": [
            "Correlação: 0.054015665927014664\n"
          ]
        }
      ]
    },
    {
      "cell_type": "markdown",
      "source": [
        "Pode-se ver no gráfico e no resultado da correlação que as duas variáveis não variam de maneira consistente uma com a outra. Abaixo realizei uma estatística descritiva para ter insights adicionais sobre a distribuição dos tempos de espera em ambos os casos. E podemos ver que em média o tempo de espera (dias) para ser cancelado ou não, de fato nao interfere."
      ],
      "metadata": {
        "id": "IKpCX84UIauB"
      }
    },
    {
      "cell_type": "code",
      "source": [
        "# Compare estatísticas descritivas para reservas canceladas e não canceladas\n",
        "stats_cancelada = dados_hotel_novo2[dados_hotel_novo2['is_canceled'] == 1]['days_in_waiting_list'].describe()\n",
        "stats_nao_cancelada = dados_hotel_novo2[dados_hotel_novo2['is_canceled'] == 0]['days_in_waiting_list'].describe()\n",
        "\n",
        "print('\\nEstatísticas para reservas canceladas:')\n",
        "print(stats_cancelada)\n",
        "\n",
        "print('\\nEstatísticas para reservas não canceladas:')\n",
        "print(stats_nao_cancelada)\n",
        "\n"
      ],
      "metadata": {
        "colab": {
          "base_uri": "https://localhost:8080/"
        },
        "id": "cxx9xX4-I56i",
        "outputId": "8504684d-8bfa-49b3-dcb5-ed36a0a7e4d7"
      },
      "execution_count": null,
      "outputs": [
        {
          "output_type": "stream",
          "name": "stdout",
          "text": [
            "\n",
            "Estatísticas para reservas canceladas:\n",
            "count    44153.000000\n",
            "mean         3.569814\n",
            "std         21.505563\n",
            "min          0.000000\n",
            "25%          0.000000\n",
            "50%          0.000000\n",
            "75%          0.000000\n",
            "max        391.000000\n",
            "Name: days_in_waiting_list, dtype: float64\n",
            "\n",
            "Estatísticas para reservas não canceladas:\n",
            "count    74745.000000\n",
            "mean         1.598823\n",
            "std         14.825972\n",
            "min          0.000000\n",
            "25%          0.000000\n",
            "50%          0.000000\n",
            "75%          0.000000\n",
            "max        379.000000\n",
            "Name: days_in_waiting_list, dtype: float64\n"
          ]
        }
      ]
    },
    {
      "cell_type": "markdown",
      "source": [
        "A segunda hipótese que testarei é : Hipótese: Reservas em determinados meses têm maior probabilidade de serem canceladas.\n",
        "Irei calcular a taxa de cancelamento global para todas as reservas e farei o teste estatístico qui- quadrado para comparar as proporções de cancelamento entre os meses."
      ],
      "metadata": {
        "id": "khs2NnNxNLNu"
      }
    },
    {
      "cell_type": "markdown",
      "source": [],
      "metadata": {
        "id": "bE3C4wJmNfd1"
      }
    },
    {
      "cell_type": "code",
      "source": [
        "# Análise Descritiva\n",
        "total_cancelado = dados_hotel_novo2['is_canceled'].sum()\n",
        "total_reservas = len(dados_hotel_novo2)\n",
        "\n",
        "taxa_cancelamento_global = total_cancelado / total_reservas\n",
        "print(f'Taxa de cancelamento global: {taxa_cancelamento_global:.2%}')\n",
        "\n",
        "# Tabela de contingência\n",
        "contingency_table = pd.crosstab(dados_hotel_novo2['arrival_date_month'],dados_hotel_novo2['is_canceled'])\n",
        "\n",
        "# Teste Qui-Quadrado\n",
        "chi2, p, _, _ = chi2_contingency(contingency_table)\n",
        "\n",
        "print(f'Qui-Quadrado: {chi2}')\n",
        "print(f'Valor p: {p}')\n",
        "\n",
        "# Interpretação do teste\n",
        "if p < 0.05:\n",
        "    print('A diferença nas taxas de cancelamento entre os meses é estatisticamente significativa.')\n",
        "else:\n",
        "    print('Não há evidência estatística de diferença nas taxas de cancelamento entre os meses.')"
      ],
      "metadata": {
        "colab": {
          "base_uri": "https://localhost:8080/"
        },
        "id": "ayKqrGAPTOww",
        "outputId": "f60e339c-114b-47a9-b53a-798854e115be"
      },
      "execution_count": null,
      "outputs": [
        {
          "output_type": "stream",
          "name": "stdout",
          "text": [
            "Taxa de cancelamento global: 37.14%\n",
            "Qui-Quadrado: 562.0842901398939\n",
            "Valor p: 1.788738008658553e-113\n",
            "A diferença nas taxas de cancelamento entre os meses é estatisticamente significativa.\n"
          ]
        }
      ]
    },
    {
      "cell_type": "code",
      "source": [
        "# Calculando as taxas de cancelamento para cada mês\n",
        "contingency_table['Taxa_Cancelamento'] = contingency_table[1] / (contingency_table[0] + contingency_table[1])\n",
        "\n",
        "# Ordenando os meses pela taxa de cancelamento\n",
        "sorted_months = contingency_table.sort_values(by='Taxa_Cancelamento', ascending=False)\n",
        "\n",
        "# Exibindo o mês com a maior taxa de cancelamento\n",
        "mes_maior_cancelamento = sorted_months.index[0]\n",
        "taxa_maior_cancelamento = sorted_months['Taxa_Cancelamento'].iloc[0]\n",
        "\n",
        "print(f'O mês com a maior taxa de cancelamento é {mes_maior_cancelamento} com uma taxa de {taxa_maior_cancelamento:.2%}')"
      ],
      "metadata": {
        "colab": {
          "base_uri": "https://localhost:8080/"
        },
        "id": "_-_LyO0AZwaK",
        "outputId": "4dc434d4-ec95-4179-dd38-b07208ec7f37"
      },
      "execution_count": null,
      "outputs": [
        {
          "output_type": "stream",
          "name": "stdout",
          "text": [
            "O mês com a maior taxa de cancelamento é June com uma taxa de 41.49%\n"
          ]
        }
      ]
    },
    {
      "cell_type": "markdown",
      "source": [
        "A próxima hipótese para o motivo do cancelamento na reserva de hotel, seria saber se as reservas de determinados países podem ter taxas de cancelamento mais altas devido a fatores como restrições de viagem, sazonalidade, etc.\n"
      ],
      "metadata": {
        "id": "GCaqh0eaUaqW"
      }
    },
    {
      "cell_type": "markdown",
      "source": [
        "Aproveitei e criei uma coluna no Dataframe com a variável : Taxa_Cancelamento"
      ],
      "metadata": {
        "id": "N_o6c3I7YSEH"
      }
    },
    {
      "cell_type": "code",
      "source": [
        "# Calcular a taxa de cancelamento\n",
        "total_cancelado = dados_hotel_novo2['is_canceled'].sum()\n",
        "total_reservas = len(dados_hotel_novo2)\n",
        "dados_hotel_novo2['Taxa_Cancelamento'] = (total_cancelado / total_reservas) * 100\n",
        "#print(dados_hotel_novo2)\n",
        "\n",
        "# Analisando a taxa de cancelamento média por país\n",
        "media_por_pais = dados_hotel_novo2.groupby('country')['Taxa_Cancelamento'].mean().reset_index()\n",
        "media_por_pais\n",
        " #Um teste estatístico comum para comparar médias entre dois ou mais grupos é a Análise de Variância (ANOVA).\n",
        "# Ajustar um modelo ANOVA\n",
        "modelo = ols('Taxa_Cancelamento ~ country', data=dados_hotel_novo2).fit()\n",
        "\n",
        "# Realizar a ANOVA\n",
        "anova_tabela = sm.stats.anova_lm(modelo, typ=2)\n",
        "print(anova_tabela)\n",
        "\n"
      ],
      "metadata": {
        "colab": {
          "base_uri": "https://localhost:8080/"
        },
        "id": "6rYBLGxQUb7o",
        "outputId": "1bebdbbe-c62f-46d1-c3c6-c2a3925cd01d"
      },
      "execution_count": null,
      "outputs": [
        {
          "output_type": "stream",
          "name": "stdout",
          "text": [
            "                sum_sq        df           F  PR(>F)\n",
            "country   1.464572e-21     176.0  307.648793     0.0\n",
            "Residual  3.211222e-21  118721.0         NaN     NaN\n"
          ]
        }
      ]
    },
    {
      "cell_type": "markdown",
      "source": [
        "O valor F é relativamente grande (307.648793), indicando que há uma variação significativa entre os grupos.\n",
        "O valor p é menor que 0.05, sugerindo que há evidências suficientes para rejeitar a hipótese nula de que as médias são iguais.Há diferenças significativas nas taxas de cancelamento entre os países. Tive a curiosidade de rankear e saber os países que mais cancelam até os país que menos cancela."
      ],
      "metadata": {
        "id": "lYXMbNYLlPfT"
      }
    },
    {
      "cell_type": "code",
      "source": [
        "# Certifique-se de remover duplicatas antes de calcular a taxa de cancelamento\n",
        "dados_hotel_novo2 = dados_hotel_novo2.drop_duplicates()\n",
        "\n",
        "# Calcular a taxa de cancelamento para cada país\n",
        "dados_hotel_novo2['Taxa_Cancelamento'] = (dados_hotel_novo2.groupby('country')['is_canceled'].transform('sum') / dados_hotel_novo2.groupby('country')['is_canceled'].transform('count')).fillna(0) * 100\n",
        "\n",
        "# Arredondar os valores para tornar a saída mais legível\n",
        "dados_hotel_novo2['Taxa_Cancelamento'] = dados_hotel_novo2['Taxa_Cancelamento'].round(2)\n",
        "\n",
        "# Remover linhas que contenham valores NaN\n",
        "dados_hotel_novo2 = dados_hotel_novo2.dropna(subset=['Taxa_Cancelamento'])\n",
        "\n",
        "# Ordenar o DataFrame pelo ranking da taxa de cancelamento em ordem decrescente\n",
        "dados_hotel_novo2_ranking = dados_hotel_novo2.sort_values(by='Taxa_Cancelamento', ascending=False)\n",
        "\n",
        "# Adicionar uma coluna com o ranking\n",
        "dados_hotel_novo2_ranking['Ranking'] = range(1, len(dados_hotel_novo2_ranking) + 1)\n",
        "\n",
        "# Visualizar o DataFrame classificado\n",
        "print(dados_hotel_novo2_ranking[['country', 'Taxa_Cancelamento', 'Ranking']])"
      ],
      "metadata": {
        "colab": {
          "base_uri": "https://localhost:8080/"
        },
        "id": "DB_0TQPRl5Nx",
        "outputId": "5c0e88a8-b5b9-43b0-f85c-e2957798bc21"
      },
      "execution_count": null,
      "outputs": [
        {
          "output_type": "stream",
          "name": "stdout",
          "text": [
            "       country  Taxa_Cancelamento  Ranking\n",
            "66083      IMN              100.0        1\n",
            "67921      BEN              100.0        2\n",
            "7980       JEY              100.0        3\n",
            "54636      BEN              100.0        4\n",
            "68177      BEN              100.0        5\n",
            "...        ...                ...      ...\n",
            "100496     CMR                0.0    86905\n",
            "115855     CMR                0.0    86906\n",
            "84628      PAN                0.0    86907\n",
            "84851      LBY                0.0    86908\n",
            "106962     CUB                0.0    86909\n",
            "\n",
            "[86909 rows x 3 columns]\n"
          ]
        }
      ]
    },
    {
      "cell_type": "markdown",
      "source": [
        "Ilha de Man, Benin e Jersey seriam as cidades com mais chance de cancelamento."
      ],
      "metadata": {
        "id": "VM5GgBWbDWUS"
      }
    },
    {
      "cell_type": "markdown",
      "source": [
        "Outra analise seria saber se diferentes segmentos de mercado (negócios, lazer, eventos, etc.) têm diferentes padrões de cancelamento.\n"
      ],
      "metadata": {
        "id": "a4V5EwccEYxd"
      }
    },
    {
      "cell_type": "code",
      "source": [
        "# estatísticas resumidas\n",
        "resumo = dados_hotel_novo2.groupby('market_segment')['is_canceled'].describe()\n",
        "\n",
        "# Imprima as estatísticas resumidas\n",
        "print(resumo)\n",
        "\n",
        "# Plote um gráfico de barras para visualizar os cancelamentos por segmento\n",
        "dados_hotel_novo2.groupby('market_segment')['is_canceled'].sum().plot(kind='bar', rot=45, xlabel='Segmento', ylabel='Cancelamentos', title='Cancelamentos por Segmento')\n",
        "plt.show()"
      ],
      "metadata": {
        "colab": {
          "base_uri": "https://localhost:8080/",
          "height": 703
        },
        "id": "XhDJod4EEVfZ",
        "outputId": "9fdd3503-9c52-4cb2-b88c-c91eebf5873f"
      },
      "execution_count": null,
      "outputs": [
        {
          "output_type": "stream",
          "name": "stdout",
          "text": [
            "                  count      mean       std  min  25%  50%  75%  max\n",
            "market_segment                                                      \n",
            "Aviation          227.0  0.198238  0.399553  0.0  0.0  0.0  0.0  1.0\n",
            "Complementary     698.0  0.123209  0.328913  0.0  0.0  0.0  0.0  1.0\n",
            "Corporate        4025.0  0.123478  0.329026  0.0  0.0  0.0  0.0  1.0\n",
            "Direct          11644.0  0.147887  0.355004  0.0  0.0  0.0  0.0  1.0\n",
            "Groups           4936.0  0.270462  0.444243  0.0  0.0  0.0  1.0  1.0\n",
            "Offline TA/TO   13846.0  0.148129  0.355241  0.0  0.0  0.0  0.0  1.0\n",
            "Online TA       51533.0  0.353987  0.478210  0.0  0.0  0.0  1.0  1.0\n"
          ]
        },
        {
          "output_type": "display_data",
          "data": {
            "text/plain": [
              "<Figure size 640x480 with 1 Axes>"
            ],
            "image/png": "[encoded data removed]"
          },
          "metadata": {}
        }
      ]
    },
    {
      "cell_type": "markdown",
      "source": [
        "Quando a resrva é Online TA temos uma maior chance de cancelar a reserva. Talvez por ter a facilidade de cancelar a qualquer hora e não somente em horário de expediente do setor responsável."
      ],
      "metadata": {
        "id": "b4tD5_9KFV0H"
      }
    },
    {
      "cell_type": "markdown",
      "source": [
        "Outra hipótese a se testar era se os clientes frequentes têm menor probabilidade de cancelar reservas em comparação com novos clientes.\n"
      ],
      "metadata": {
        "id": "Vi2zmtbcFo7j"
      }
    },
    {
      "cell_type": "code",
      "source": [
        "\n",
        "data = {\n",
        "    'is_repeated_guest': dados_hotel_novo2['is_repeated_guest'].tolist(),\n",
        "    'booking_canceled': dados_hotel_novo2['is_canceled'].tolist()\n",
        "}\n",
        "\n",
        "dados= pd.DataFrame(data)\n",
        "\n",
        "# Tabela de contingência\n",
        "contingency_table = pd.crosstab(dados_hotel_novo2['is_repeated_guest'], dados_hotel_novo2['is_canceled'])\n",
        "\n",
        "# Teste qui-quadrado de independência\n",
        "chi2, p_value, dof, expected = stats.chi2_contingency(contingency_table)\n",
        "\n",
        "# Imprimir resultados\n",
        "print(f'Estatística de teste qui-quadrado: {chi2}')\n",
        "print(f'Valor p: {p_value}')\n",
        "\n",
        "# Comparar o valor p com um nível de significância, por exemplo, 0.05\n",
        "if p_value < 0.05:\n",
        "    print('A diferença nas taxas de cancelamento é estatisticamente significativa.')\n",
        "else:\n",
        "    print('Não há evidências suficientes para rejeitar a hipótese nula.')\n",
        "# Calcular proporções de cancelamento em cada grupo\n",
        "total_frequent = contingency_table.loc[1].sum()\n",
        "total_non_frequent = contingency_table.loc[0].sum()\n",
        "\n",
        "prop_cancel_frequent = contingency_table.loc[1, 1] / total_frequent\n",
        "prop_cancel_non_frequent = contingency_table.loc[0, 1] / total_non_frequent\n",
        "\n",
        "# Imprimir resultados\n",
        "print(f'Proporção de cancelamento para hóspedes frequentes: {prop_cancel_frequent:.2%}')\n",
        "print(f'Proporção de cancelamento para não frequentes: {prop_cancel_non_frequent:.2%}')"
      ],
      "metadata": {
        "colab": {
          "base_uri": "https://localhost:8080/"
        },
        "id": "_ugwN2r8NEJM",
        "outputId": "5bff8871-f743-4b0c-8b09-8d678cc9da63"
      },
      "execution_count": null,
      "outputs": [
        {
          "output_type": "stream",
          "name": "stdout",
          "text": [
            "Estatística de teste qui-quadrado: 861.663820464543\n",
            "Valor p: 2.1176165683492342e-189\n",
            "A diferença nas taxas de cancelamento é estatisticamente significativa.\n",
            "Proporção de cancelamento para hóspedes frequentes: 14.50%\n",
            "Proporção de cancelamento para não frequentes: 37.88%\n"
          ]
        }
      ]
    }
  ]
}